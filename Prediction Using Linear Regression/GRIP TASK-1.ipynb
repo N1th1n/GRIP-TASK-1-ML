{
 "cells": [
  {
   "cell_type": "markdown",
   "id": "bf18b6f0",
   "metadata": {},
   "source": [
    "# GRIP @ THE SPARKS FOUNDATION\n",
    "\n",
    "\n",
    "# NAME-KANCHARLA NITHIN\n",
    "\n",
    "\n",
    "# BATCH-JUNE 2022\n",
    "\n",
    "\n",
    "# TASK-1 Prediction using Supervised ML"
   ]
  },
  {
   "cell_type": "markdown",
   "id": "1fd8a571",
   "metadata": {},
   "source": [
    "### (LEVEL_BEGINNER)\n",
    "\n",
    "- Predict the percentage of an student based on the no. of study hours.\n",
    "- What will be predicted score if a student studies for 9.25 hrs/day.\n",
    "- Use R, Python, SAS Enterprise Miner or any other tool."
   ]
  },
  {
   "cell_type": "markdown",
   "id": "e8baaffd",
   "metadata": {},
   "source": [
    "The aim is to predict the **percentage** obtained by a student based on the number of hours studied by the student"
   ]
  },
  {
   "cell_type": "markdown",
   "id": "d9197283",
   "metadata": {},
   "source": [
    "Importing libraries "
   ]
  },
  {
   "cell_type": "code",
   "execution_count": 1,
   "id": "0d94419b",
   "metadata": {},
   "outputs": [],
   "source": [
    "import numpy as np\n",
    "import pandas as pd\n",
    "import matplotlib.pyplot as plt\n",
    "import seaborn as sns"
   ]
  },
  {
   "cell_type": "markdown",
   "id": "a405201e",
   "metadata": {},
   "source": [
    "Importing data"
   ]
  },
  {
   "cell_type": "code",
   "execution_count": 2,
   "id": "38a2052c",
   "metadata": {},
   "outputs": [
    {
     "data": {
      "text/html": [
       "<div>\n",
       "<style scoped>\n",
       "    .dataframe tbody tr th:only-of-type {\n",
       "        vertical-align: middle;\n",
       "    }\n",
       "\n",
       "    .dataframe tbody tr th {\n",
       "        vertical-align: top;\n",
       "    }\n",
       "\n",
       "    .dataframe thead th {\n",
       "        text-align: right;\n",
       "    }\n",
       "</style>\n",
       "<table border=\"1\" class=\"dataframe\">\n",
       "  <thead>\n",
       "    <tr style=\"text-align: right;\">\n",
       "      <th></th>\n",
       "      <th>Hours</th>\n",
       "      <th>Scores</th>\n",
       "    </tr>\n",
       "  </thead>\n",
       "  <tbody>\n",
       "    <tr>\n",
       "      <th>0</th>\n",
       "      <td>2.5</td>\n",
       "      <td>21</td>\n",
       "    </tr>\n",
       "    <tr>\n",
       "      <th>1</th>\n",
       "      <td>5.1</td>\n",
       "      <td>47</td>\n",
       "    </tr>\n",
       "    <tr>\n",
       "      <th>2</th>\n",
       "      <td>3.2</td>\n",
       "      <td>27</td>\n",
       "    </tr>\n",
       "    <tr>\n",
       "      <th>3</th>\n",
       "      <td>8.5</td>\n",
       "      <td>75</td>\n",
       "    </tr>\n",
       "    <tr>\n",
       "      <th>4</th>\n",
       "      <td>3.5</td>\n",
       "      <td>30</td>\n",
       "    </tr>\n",
       "  </tbody>\n",
       "</table>\n",
       "</div>"
      ],
      "text/plain": [
       "   Hours  Scores\n",
       "0    2.5      21\n",
       "1    5.1      47\n",
       "2    3.2      27\n",
       "3    8.5      75\n",
       "4    3.5      30"
      ]
     },
     "execution_count": 2,
     "metadata": {},
     "output_type": "execute_result"
    }
   ],
   "source": [
    "url=\"http://bit.ly/w-data\"\n",
    "df=pd.read_csv(url)\n",
    "df.head()"
   ]
  },
  {
   "cell_type": "markdown",
   "id": "a07d8dbe",
   "metadata": {},
   "source": [
    "Exploratory data analysis"
   ]
  },
  {
   "cell_type": "code",
   "execution_count": 5,
   "id": "0a4dd9ce",
   "metadata": {},
   "outputs": [
    {
     "name": "stdout",
     "output_type": "stream",
     "text": [
      "<class 'pandas.core.frame.DataFrame'>\n",
      "RangeIndex: 25 entries, 0 to 24\n",
      "Data columns (total 2 columns):\n",
      " #   Column  Non-Null Count  Dtype  \n",
      "---  ------  --------------  -----  \n",
      " 0   Hours   25 non-null     float64\n",
      " 1   Scores  25 non-null     int64  \n",
      "dtypes: float64(1), int64(1)\n",
      "memory usage: 528.0 bytes\n"
     ]
    }
   ],
   "source": [
    "df.info()"
   ]
  },
  {
   "cell_type": "code",
   "execution_count": 6,
   "id": "caeb03a2",
   "metadata": {},
   "outputs": [
    {
     "data": {
      "text/html": [
       "<div>\n",
       "<style scoped>\n",
       "    .dataframe tbody tr th:only-of-type {\n",
       "        vertical-align: middle;\n",
       "    }\n",
       "\n",
       "    .dataframe tbody tr th {\n",
       "        vertical-align: top;\n",
       "    }\n",
       "\n",
       "    .dataframe thead th {\n",
       "        text-align: right;\n",
       "    }\n",
       "</style>\n",
       "<table border=\"1\" class=\"dataframe\">\n",
       "  <thead>\n",
       "    <tr style=\"text-align: right;\">\n",
       "      <th></th>\n",
       "      <th>Hours</th>\n",
       "      <th>Scores</th>\n",
       "    </tr>\n",
       "  </thead>\n",
       "  <tbody>\n",
       "    <tr>\n",
       "      <th>count</th>\n",
       "      <td>25.000000</td>\n",
       "      <td>25.000000</td>\n",
       "    </tr>\n",
       "    <tr>\n",
       "      <th>mean</th>\n",
       "      <td>5.012000</td>\n",
       "      <td>51.480000</td>\n",
       "    </tr>\n",
       "    <tr>\n",
       "      <th>std</th>\n",
       "      <td>2.525094</td>\n",
       "      <td>25.286887</td>\n",
       "    </tr>\n",
       "    <tr>\n",
       "      <th>min</th>\n",
       "      <td>1.100000</td>\n",
       "      <td>17.000000</td>\n",
       "    </tr>\n",
       "    <tr>\n",
       "      <th>25%</th>\n",
       "      <td>2.700000</td>\n",
       "      <td>30.000000</td>\n",
       "    </tr>\n",
       "    <tr>\n",
       "      <th>50%</th>\n",
       "      <td>4.800000</td>\n",
       "      <td>47.000000</td>\n",
       "    </tr>\n",
       "    <tr>\n",
       "      <th>75%</th>\n",
       "      <td>7.400000</td>\n",
       "      <td>75.000000</td>\n",
       "    </tr>\n",
       "    <tr>\n",
       "      <th>max</th>\n",
       "      <td>9.200000</td>\n",
       "      <td>95.000000</td>\n",
       "    </tr>\n",
       "  </tbody>\n",
       "</table>\n",
       "</div>"
      ],
      "text/plain": [
       "           Hours     Scores\n",
       "count  25.000000  25.000000\n",
       "mean    5.012000  51.480000\n",
       "std     2.525094  25.286887\n",
       "min     1.100000  17.000000\n",
       "25%     2.700000  30.000000\n",
       "50%     4.800000  47.000000\n",
       "75%     7.400000  75.000000\n",
       "max     9.200000  95.000000"
      ]
     },
     "execution_count": 6,
     "metadata": {},
     "output_type": "execute_result"
    }
   ],
   "source": [
    "df.describe()"
   ]
  },
  {
   "cell_type": "code",
   "execution_count": 9,
   "id": "7c5065e2",
   "metadata": {},
   "outputs": [
    {
     "data": {
      "text/plain": [
       "Hours     0\n",
       "Scores    0\n",
       "dtype: int64"
      ]
     },
     "execution_count": 9,
     "metadata": {},
     "output_type": "execute_result"
    }
   ],
   "source": [
    "df.isnull().sum() # Checking if there are any null values"
   ]
  },
  {
   "cell_type": "markdown",
   "id": "714f1a5f",
   "metadata": {},
   "source": [
    "Visualizing the data"
   ]
  },
  {
   "cell_type": "code",
   "execution_count": 7,
   "id": "1588c793",
   "metadata": {},
   "outputs": [
    {
     "data": {
      "text/plain": [
       "<AxesSubplot:xlabel='Hours', ylabel='Scores'>"
      ]
     },
     "execution_count": 7,
     "metadata": {},
     "output_type": "execute_result"
    },
    {
     "data": {
      "image/png": "[encoded data removed]",
      "text/plain": [
       "<Figure size 432x288 with 1 Axes>"
      ]
     },
     "metadata": {
      "needs_background": "light"
     },
     "output_type": "display_data"
    }
   ],
   "source": [
    "sns.scatterplot(data=df,x='Hours',y='Scores')"
   ]
  },
  {
   "cell_type": "markdown",
   "id": "759f2c1f",
   "metadata": {},
   "source": [
    "We can see that there is  positive linear relationship as hours increase  linearly scores also increase linearly"
   ]
  },
  {
   "cell_type": "code",
   "execution_count": 8,
   "id": "5c0da20f",
   "metadata": {},
   "outputs": [
    {
     "data": {
      "text/plain": [
       "<AxesSubplot:xlabel='Hours', ylabel='Scores'>"
      ]
     },
     "execution_count": 8,
     "metadata": {},
     "output_type": "execute_result"
    },
    {
     "data": {
      "image/png": "[encoded data removed]",
      "text/plain": [
       "<Figure size 432x288 with 1 Axes>"
      ]
     },
     "metadata": {
      "needs_background": "light"
     },
     "output_type": "display_data"
    }
   ],
   "source": [
    "sns.regplot(data=df,x='Hours',y='Scores',color='black')"
   ]
  },
  {
   "cell_type": "code",
   "execution_count": 23,
   "id": "c1787963",
   "metadata": {},
   "outputs": [],
   "source": [
    "X=np.reshape(df['Hours'].values,(-1,1)) #Feature .reshape(-1,1) as it has a single feature\n",
    "y=df['Scores'] #Label"
   ]
  },
  {
   "cell_type": "markdown",
   "id": "f4d882ee",
   "metadata": {},
   "source": [
    "Preparing data for training and testing"
   ]
  },
  {
   "cell_type": "code",
   "execution_count": 51,
   "id": "d1571bc4",
   "metadata": {},
   "outputs": [],
   "source": [
    "from sklearn.model_selection import train_test_split\n",
    "X_train, X_test, y_train, y_test = train_test_split(X,y,test_size=0.2, random_state=42)"
   ]
  },
  {
   "cell_type": "markdown",
   "id": "7eabf5c5",
   "metadata": {},
   "source": [
    "Checking number of instances for training and testing"
   ]
  },
  {
   "cell_type": "code",
   "execution_count": 52,
   "id": "93addf67",
   "metadata": {},
   "outputs": [
    {
     "data": {
      "text/plain": [
       "20"
      ]
     },
     "execution_count": 52,
     "metadata": {},
     "output_type": "execute_result"
    }
   ],
   "source": [
    "len(X_train)"
   ]
  },
  {
   "cell_type": "code",
   "execution_count": 53,
   "id": "ef40752a",
   "metadata": {},
   "outputs": [
    {
     "data": {
      "text/plain": [
       "5"
      ]
     },
     "execution_count": 53,
     "metadata": {},
     "output_type": "execute_result"
    }
   ],
   "source": [
    "len(X_test)"
   ]
  },
  {
   "cell_type": "markdown",
   "id": "f8042ad1",
   "metadata": {},
   "source": [
    "Importing and training the model"
   ]
  },
  {
   "cell_type": "code",
   "execution_count": 54,
   "id": "48370b67",
   "metadata": {},
   "outputs": [],
   "source": [
    "from sklearn.linear_model import LinearRegression"
   ]
  },
  {
   "cell_type": "code",
   "execution_count": 55,
   "id": "b71b5898",
   "metadata": {},
   "outputs": [],
   "source": [
    "linreg_model=LinearRegression()"
   ]
  },
  {
   "cell_type": "markdown",
   "id": "c4164777",
   "metadata": {},
   "source": [
    "Training the model"
   ]
  },
  {
   "cell_type": "code",
   "execution_count": 56,
   "id": "d83aad79",
   "metadata": {},
   "outputs": [
    {
     "data": {
      "text/plain": [
       "LinearRegression()"
      ]
     },
     "execution_count": 56,
     "metadata": {},
     "output_type": "execute_result"
    }
   ],
   "source": [
    "linreg_model.fit(X_train,y_train)"
   ]
  },
  {
   "cell_type": "code",
   "execution_count": 57,
   "id": "228b8224",
   "metadata": {},
   "outputs": [
    {
     "data": {
      "text/plain": [
       "array([9.68207815])"
      ]
     },
     "execution_count": 57,
     "metadata": {},
     "output_type": "execute_result"
    }
   ],
   "source": [
    "linreg_model.coef_"
   ]
  },
  {
   "cell_type": "code",
   "execution_count": 58,
   "id": "40c2a53f",
   "metadata": {},
   "outputs": [
    {
     "data": {
      "text/plain": [
       "2.826892353899737"
      ]
     },
     "execution_count": 58,
     "metadata": {},
     "output_type": "execute_result"
    }
   ],
   "source": [
    "linreg_model.intercept_"
   ]
  },
  {
   "cell_type": "markdown",
   "id": "a6426687",
   "metadata": {},
   "source": [
    "Predicting values"
   ]
  },
  {
   "cell_type": "code",
   "execution_count": 59,
   "id": "16993754",
   "metadata": {},
   "outputs": [],
   "source": [
    "y_preds=linreg_model.predict(X_test)"
   ]
  },
  {
   "cell_type": "code",
   "execution_count": 60,
   "id": "318913f9",
   "metadata": {},
   "outputs": [
    {
     "data": {
      "text/plain": [
       "array([83.18814104, 27.03208774, 27.03208774, 69.63323162, 59.95115347])"
      ]
     },
     "execution_count": 60,
     "metadata": {},
     "output_type": "execute_result"
    }
   ],
   "source": [
    "y_preds"
   ]
  },
  {
   "cell_type": "markdown",
   "id": "1779914f",
   "metadata": {},
   "source": [
    "### plotting the regression line"
   ]
  },
  {
   "cell_type": "code",
   "execution_count": 61,
   "id": "e418f1da",
   "metadata": {},
   "outputs": [
    {
     "data": {
      "text/plain": [
       "<AxesSubplot:xlabel='Hours', ylabel='Scores'>"
      ]
     },
     "execution_count": 61,
     "metadata": {},
     "output_type": "execute_result"
    },
    {
     "data": {
      "image/png": "[encoded data removed]",
      "text/plain": [
       "<Figure size 1600x1200 with 1 Axes>"
      ]
     },
     "metadata": {
      "needs_background": "light"
     },
     "output_type": "display_data"
    }
   ],
   "source": [
    "plt.figure(figsize=(8,6),dpi=200)\n",
    "reg_line=linreg_model.coef_*(df['Hours'].values)+linreg_model.intercept_\n",
    "plt.plot(df['Hours'].values,reg_line)\n",
    "sns.scatterplot(data=df,x='Hours',y='Scores')"
   ]
  },
  {
   "cell_type": "markdown",
   "id": "a5dfffab",
   "metadata": {},
   "source": [
    "Predicting a given value"
   ]
  },
  {
   "cell_type": "code",
   "execution_count": 62,
   "id": "ba848106",
   "metadata": {},
   "outputs": [
    {
     "name": "stdout",
     "output_type": "stream",
     "text": [
      "The predicted score by studying 9.25 is=[92.38611528]\n"
     ]
    }
   ],
   "source": [
    "hours=9.25\n",
    "pred=linreg_model.predict([[hours]])\n",
    "print(f'The predicted score by studying {hours} is={pred}')"
   ]
  },
  {
   "cell_type": "markdown",
   "id": "88559112",
   "metadata": {},
   "source": [
    "Model Evaluation"
   ]
  },
  {
   "cell_type": "code",
   "execution_count": 63,
   "id": "762df3cb",
   "metadata": {},
   "outputs": [],
   "source": [
    "from sklearn.metrics import mean_absolute_error,mean_squared_error,r2_score"
   ]
  },
  {
   "cell_type": "code",
   "execution_count": 64,
   "id": "d9377d9d",
   "metadata": {},
   "outputs": [
    {
     "name": "stdout",
     "output_type": "stream",
     "text": [
      "Mean absolute Error=  3.9207511902099244\n"
     ]
    }
   ],
   "source": [
    "mae=mean_absolute_error(y_test,y_preds)\n",
    "print('Mean absolute Error= ',mae)"
   ]
  },
  {
   "cell_type": "code",
   "execution_count": 65,
   "id": "2e7273e4",
   "metadata": {},
   "outputs": [
    {
     "name": "stdout",
     "output_type": "stream",
     "text": [
      "Mean Square Error:  18.943211722315272\n"
     ]
    }
   ],
   "source": [
    "mse=mean_squared_error(y_test,y_preds)\n",
    "print('Mean Square Error: ',mse)"
   ]
  },
  {
   "cell_type": "code",
   "execution_count": 66,
   "id": "aee70f82",
   "metadata": {},
   "outputs": [
    {
     "name": "stdout",
     "output_type": "stream",
     "text": [
      "Root Mean Square Error:  4.352380006653288\n"
     ]
    }
   ],
   "source": [
    "rmse=np.sqrt(mean_squared_error(y_test,y_preds))\n",
    "print('Root Mean Square Error: ',rmse)"
   ]
  },
  {
   "cell_type": "code",
   "execution_count": 67,
   "id": "c6a54e62",
   "metadata": {},
   "outputs": [
    {
     "name": "stdout",
     "output_type": "stream",
     "text": [
      "r2_score:  0.9678055545167994\n"
     ]
    }
   ],
   "source": [
    "print('r2_score: ',r2_score(y_test,y_preds))"
   ]
  },
  {
   "cell_type": "markdown",
   "id": "6e69d7ff",
   "metadata": {},
   "source": [
    "# THANK YOU!"
   ]
  }
 ],
 "metadata": {
  "kernelspec": {
   "display_name": "Python 3",
   "language": "python",
   "name": "python3"
  },
  "language_info": {
   "codemirror_mode": {
    "name": "ipython",
    "version": 3
   },
   "file_extension": ".py",
   "mimetype": "text/x-python",
   "name": "python",
   "nbconvert_exporter": "python",
   "pygments_lexer": "ipython3",
   "version": "3.8.8"
  }
 },
 "nbformat": 4,
 "nbformat_minor": 5
}
